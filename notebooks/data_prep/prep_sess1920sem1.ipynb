{
 "cells": [
  {
   "cell_type": "markdown",
   "metadata": {
    "id": "ivor-qYVvbMv",
    "pycharm": {
     "name": "#%% md\n"
    }
   },
   "source": [
    "Know where you're running python from"
   ]
  },
  {
   "cell_type": "code",
   "execution_count": 1,
   "metadata": {
    "colab": {
     "base_uri": "https://localhost:8080/"
    },
    "executionInfo": {
     "elapsed": 13,
     "status": "ok",
     "timestamp": 1659864939091,
     "user": {
      "displayName": "Bruce Murdock",
      "userId": "12722198424417932396"
     },
     "user_tz": -360
    },
    "id": "Hh6uuhDXvbM2",
    "outputId": "95ab2034-1add-4b7f-85b7-3b0c49a46181",
    "pycharm": {
     "name": "#%%\n"
    }
   },
   "outputs": [
    {
     "name": "stdout",
     "output_type": "stream",
     "text": [
      "C:\\Users\\kople\\anaconda3\\python.exe\n"
     ]
    }
   ],
   "source": [
    "import sys, os\n",
    "print(sys.executable)"
   ]
  },
  {
   "cell_type": "code",
   "execution_count": 2,
   "metadata": {
    "colab": {
     "base_uri": "https://localhost:8080/"
    },
    "executionInfo": {
     "elapsed": 9,
     "status": "ok",
     "timestamp": 1659864939091,
     "user": {
      "displayName": "Bruce Murdock",
      "userId": "12722198424417932396"
     },
     "user_tz": -360
    },
    "id": "VE8nE_OIvbM3",
    "outputId": "a2f929bd-db47-488a-fe12-abdbc95255f0",
    "pycharm": {
     "name": "#%%\n"
    }
   },
   "outputs": [
    {
     "name": "stdout",
     "output_type": "stream",
     "text": [
      "['C:\\\\Users\\\\kople\\\\Documents\\\\Work\\\\RA\\\\Student-Engagement_Prediction\\\\notebooks\\\\data_prep', 'C:\\\\Users\\\\kople\\\\anaconda3\\\\python39.zip', 'C:\\\\Users\\\\kople\\\\anaconda3\\\\DLLs', 'C:\\\\Users\\\\kople\\\\anaconda3\\\\lib', 'C:\\\\Users\\\\kople\\\\anaconda3', '', 'C:\\\\Users\\\\kople\\\\AppData\\\\Roaming\\\\Python\\\\Python39\\\\site-packages', 'C:\\\\Users\\\\kople\\\\anaconda3\\\\lib\\\\site-packages', 'C:\\\\Users\\\\kople\\\\anaconda3\\\\lib\\\\site-packages\\\\win32', 'C:\\\\Users\\\\kople\\\\anaconda3\\\\lib\\\\site-packages\\\\win32\\\\lib', 'C:\\\\Users\\\\kople\\\\anaconda3\\\\lib\\\\site-packages\\\\Pythonwin']\n"
     ]
    }
   ],
   "source": [
    "print(sys.path)"
   ]
  },
  {
   "cell_type": "code",
   "execution_count": 3,
   "metadata": {
    "colab": {
     "base_uri": "https://localhost:8080/",
     "height": 36
    },
    "executionInfo": {
     "elapsed": 8,
     "status": "ok",
     "timestamp": 1659864939092,
     "user": {
      "displayName": "Bruce Murdock",
      "userId": "12722198424417932396"
     },
     "user_tz": -360
    },
    "id": "5MYDoOKhvbM4",
    "outputId": "5d54dafb-2560-4c00-af95-3b90036cf00c",
    "pycharm": {
     "name": "#%%\n"
    }
   },
   "outputs": [
    {
     "data": {
      "text/plain": [
       "'C:\\\\Users\\\\kople\\\\Documents\\\\Work\\\\RA\\\\Student-Engagement_Prediction\\\\notebooks\\\\data_prep'"
      ]
     },
     "execution_count": 3,
     "metadata": {},
     "output_type": "execute_result"
    }
   ],
   "source": [
    "os.getcwd()"
   ]
  },
  {
   "cell_type": "markdown",
   "metadata": {
    "id": "ebuGSWplvbM4",
    "pycharm": {
     "name": "#%% md\n"
    }
   },
   "source": [
    "## Package Imports"
   ]
  },
  {
   "cell_type": "code",
   "execution_count": 4,
   "metadata": {
    "executionInfo": {
     "elapsed": 3170,
     "status": "ok",
     "timestamp": 1659864942255,
     "user": {
      "displayName": "Bruce Murdock",
      "userId": "12722198424417932396"
     },
     "user_tz": -360
    },
    "id": "WQQZnhAsvbM4",
    "pycharm": {
     "name": "#%%\n"
    }
   },
   "outputs": [],
   "source": [
    "import pandas as pd\n",
    "import seaborn as sns\n",
    "import plotly.express as px\n",
    "import plotly.io as pio\n",
    "import kaleido\n",
    "import matplotlib.pyplot as plt\n",
    "import numpy as np\n",
    "import missingno as msno\n",
    "from tqdm.notebook import tqdm_notebook,trange\n",
    "from tqdm import tqdm\n",
    "from time import sleep\n",
    "from functools import reduce"
   ]
  },
  {
   "cell_type": "code",
   "execution_count": 5,
   "metadata": {
    "executionInfo": {
     "elapsed": 4,
     "status": "ok",
     "timestamp": 1659864942255,
     "user": {
      "displayName": "Bruce Murdock",
      "userId": "12722198424417932396"
     },
     "user_tz": -360
    },
    "id": "Tk0eau36vbM4",
    "pycharm": {
     "name": "#%%\n"
    }
   },
   "outputs": [],
   "source": [
    "ppath = 'C:/Users/kople/Documents/Work/RA/data/processed/sess1920sem1/'\n",
    "path = 'C:/Users/kople/Documents/Work/RA/data/raw/sess1920sem1/'\n",
    "plots_path = 'C:/Users/kople/Documents/Work\\RA/Student-Engagement_Prediction/plots'"
   ]
  },
  {
   "cell_type": "markdown",
   "metadata": {
    "id": "wbZagxh6vbM5",
    "pycharm": {
     "name": "#%% md\n"
    }
   },
   "source": [
    "## Data imports"
   ]
  },
  {
   "cell_type": "code",
   "execution_count": 7,
   "metadata": {
    "executionInfo": {
     "elapsed": 62309,
     "status": "ok",
     "timestamp": 1659865004561,
     "user": {
      "displayName": "Bruce Murdock",
      "userId": "12722198424417932396"
     },
     "user_tz": -360
    },
    "id": "v04dF01rvbM5",
    "pycharm": {
     "name": "#%%\n"
    }
   },
   "outputs": [
    {
     "name": "stderr",
     "output_type": "stream",
     "text": [
      "C:\\Users\\kople\\AppData\\Local\\Temp\\ipykernel_19372\\3566694949.py:7: DtypeWarning: Columns (14,15,16,17,18,20,29,37) have mixed types. Specify dtype option on import or set low_memory=False.\n",
      "  students = pd.read_csv(f'{ppath}students.csv')\n"
     ]
    },
    {
     "ename": "FileNotFoundError",
     "evalue": "[Errno 2] No such file or directory: 'C:/Users/kople/Documents/Work/RA/data/processed/sess1920sem1/student_log.csv'",
     "output_type": "error",
     "traceback": [
      "\u001b[1;31m---------------------------------------------------------------------------\u001b[0m",
      "\u001b[1;31mFileNotFoundError\u001b[0m                         Traceback (most recent call last)",
      "Input \u001b[1;32mIn [7]\u001b[0m, in \u001b[0;36m<cell line: 8>\u001b[1;34m()\u001b[0m\n\u001b[0;32m      6\u001b[0m forumposts \u001b[38;5;241m=\u001b[39m pd\u001b[38;5;241m.\u001b[39mread_csv(\u001b[38;5;124mf\u001b[39m\u001b[38;5;124m'\u001b[39m\u001b[38;5;132;01m{\u001b[39;00mppath\u001b[38;5;132;01m}\u001b[39;00m\u001b[38;5;124mforumposts.csv\u001b[39m\u001b[38;5;124m'\u001b[39m)\n\u001b[0;32m      7\u001b[0m students \u001b[38;5;241m=\u001b[39m pd\u001b[38;5;241m.\u001b[39mread_csv(\u001b[38;5;124mf\u001b[39m\u001b[38;5;124m'\u001b[39m\u001b[38;5;132;01m{\u001b[39;00mppath\u001b[38;5;132;01m}\u001b[39;00m\u001b[38;5;124mstudents.csv\u001b[39m\u001b[38;5;124m'\u001b[39m)\n\u001b[1;32m----> 8\u001b[0m student_log \u001b[38;5;241m=\u001b[39m \u001b[43mpd\u001b[49m\u001b[38;5;241;43m.\u001b[39;49m\u001b[43mread_csv\u001b[49m\u001b[43m(\u001b[49m\u001b[38;5;124;43mf\u001b[39;49m\u001b[38;5;124;43m'\u001b[39;49m\u001b[38;5;132;43;01m{\u001b[39;49;00m\u001b[43mppath\u001b[49m\u001b[38;5;132;43;01m}\u001b[39;49;00m\u001b[38;5;124;43mstudent_log.csv\u001b[39;49m\u001b[38;5;124;43m'\u001b[39;49m\u001b[43m)\u001b[49m\n\u001b[0;32m      9\u001b[0m student_logins \u001b[38;5;241m=\u001b[39m pd\u001b[38;5;241m.\u001b[39mread_csv(\u001b[38;5;124mf\u001b[39m\u001b[38;5;124m'\u001b[39m\u001b[38;5;132;01m{\u001b[39;00mppath\u001b[38;5;132;01m}\u001b[39;00m\u001b[38;5;124mstudent_logins.csv\u001b[39m\u001b[38;5;124m'\u001b[39m)\n\u001b[0;32m     10\u001b[0m teachers \u001b[38;5;241m=\u001b[39m pd\u001b[38;5;241m.\u001b[39mread_csv(\u001b[38;5;124mf\u001b[39m\u001b[38;5;124m'\u001b[39m\u001b[38;5;132;01m{\u001b[39;00mppath\u001b[38;5;132;01m}\u001b[39;00m\u001b[38;5;124mteachers.csv\u001b[39m\u001b[38;5;124m'\u001b[39m)\n",
      "File \u001b[1;32m~\\anaconda3\\lib\\site-packages\\pandas\\util\\_decorators.py:311\u001b[0m, in \u001b[0;36mdeprecate_nonkeyword_arguments.<locals>.decorate.<locals>.wrapper\u001b[1;34m(*args, **kwargs)\u001b[0m\n\u001b[0;32m    305\u001b[0m \u001b[38;5;28;01mif\u001b[39;00m \u001b[38;5;28mlen\u001b[39m(args) \u001b[38;5;241m>\u001b[39m num_allow_args:\n\u001b[0;32m    306\u001b[0m     warnings\u001b[38;5;241m.\u001b[39mwarn(\n\u001b[0;32m    307\u001b[0m         msg\u001b[38;5;241m.\u001b[39mformat(arguments\u001b[38;5;241m=\u001b[39marguments),\n\u001b[0;32m    308\u001b[0m         \u001b[38;5;167;01mFutureWarning\u001b[39;00m,\n\u001b[0;32m    309\u001b[0m         stacklevel\u001b[38;5;241m=\u001b[39mstacklevel,\n\u001b[0;32m    310\u001b[0m     )\n\u001b[1;32m--> 311\u001b[0m \u001b[38;5;28;01mreturn\u001b[39;00m func(\u001b[38;5;241m*\u001b[39margs, \u001b[38;5;241m*\u001b[39m\u001b[38;5;241m*\u001b[39mkwargs)\n",
      "File \u001b[1;32m~\\anaconda3\\lib\\site-packages\\pandas\\io\\parsers\\readers.py:680\u001b[0m, in \u001b[0;36mread_csv\u001b[1;34m(filepath_or_buffer, sep, delimiter, header, names, index_col, usecols, squeeze, prefix, mangle_dupe_cols, dtype, engine, converters, true_values, false_values, skipinitialspace, skiprows, skipfooter, nrows, na_values, keep_default_na, na_filter, verbose, skip_blank_lines, parse_dates, infer_datetime_format, keep_date_col, date_parser, dayfirst, cache_dates, iterator, chunksize, compression, thousands, decimal, lineterminator, quotechar, quoting, doublequote, escapechar, comment, encoding, encoding_errors, dialect, error_bad_lines, warn_bad_lines, on_bad_lines, delim_whitespace, low_memory, memory_map, float_precision, storage_options)\u001b[0m\n\u001b[0;32m    665\u001b[0m kwds_defaults \u001b[38;5;241m=\u001b[39m _refine_defaults_read(\n\u001b[0;32m    666\u001b[0m     dialect,\n\u001b[0;32m    667\u001b[0m     delimiter,\n\u001b[1;32m   (...)\u001b[0m\n\u001b[0;32m    676\u001b[0m     defaults\u001b[38;5;241m=\u001b[39m{\u001b[38;5;124m\"\u001b[39m\u001b[38;5;124mdelimiter\u001b[39m\u001b[38;5;124m\"\u001b[39m: \u001b[38;5;124m\"\u001b[39m\u001b[38;5;124m,\u001b[39m\u001b[38;5;124m\"\u001b[39m},\n\u001b[0;32m    677\u001b[0m )\n\u001b[0;32m    678\u001b[0m kwds\u001b[38;5;241m.\u001b[39mupdate(kwds_defaults)\n\u001b[1;32m--> 680\u001b[0m \u001b[38;5;28;01mreturn\u001b[39;00m \u001b[43m_read\u001b[49m\u001b[43m(\u001b[49m\u001b[43mfilepath_or_buffer\u001b[49m\u001b[43m,\u001b[49m\u001b[43m \u001b[49m\u001b[43mkwds\u001b[49m\u001b[43m)\u001b[49m\n",
      "File \u001b[1;32m~\\anaconda3\\lib\\site-packages\\pandas\\io\\parsers\\readers.py:575\u001b[0m, in \u001b[0;36m_read\u001b[1;34m(filepath_or_buffer, kwds)\u001b[0m\n\u001b[0;32m    572\u001b[0m _validate_names(kwds\u001b[38;5;241m.\u001b[39mget(\u001b[38;5;124m\"\u001b[39m\u001b[38;5;124mnames\u001b[39m\u001b[38;5;124m\"\u001b[39m, \u001b[38;5;28;01mNone\u001b[39;00m))\n\u001b[0;32m    574\u001b[0m \u001b[38;5;66;03m# Create the parser.\u001b[39;00m\n\u001b[1;32m--> 575\u001b[0m parser \u001b[38;5;241m=\u001b[39m TextFileReader(filepath_or_buffer, \u001b[38;5;241m*\u001b[39m\u001b[38;5;241m*\u001b[39mkwds)\n\u001b[0;32m    577\u001b[0m \u001b[38;5;28;01mif\u001b[39;00m chunksize \u001b[38;5;129;01mor\u001b[39;00m iterator:\n\u001b[0;32m    578\u001b[0m     \u001b[38;5;28;01mreturn\u001b[39;00m parser\n",
      "File \u001b[1;32m~\\anaconda3\\lib\\site-packages\\pandas\\io\\parsers\\readers.py:933\u001b[0m, in \u001b[0;36mTextFileReader.__init__\u001b[1;34m(self, f, engine, **kwds)\u001b[0m\n\u001b[0;32m    930\u001b[0m     \u001b[38;5;28mself\u001b[39m\u001b[38;5;241m.\u001b[39moptions[\u001b[38;5;124m\"\u001b[39m\u001b[38;5;124mhas_index_names\u001b[39m\u001b[38;5;124m\"\u001b[39m] \u001b[38;5;241m=\u001b[39m kwds[\u001b[38;5;124m\"\u001b[39m\u001b[38;5;124mhas_index_names\u001b[39m\u001b[38;5;124m\"\u001b[39m]\n\u001b[0;32m    932\u001b[0m \u001b[38;5;28mself\u001b[39m\u001b[38;5;241m.\u001b[39mhandles: IOHandles \u001b[38;5;241m|\u001b[39m \u001b[38;5;28;01mNone\u001b[39;00m \u001b[38;5;241m=\u001b[39m \u001b[38;5;28;01mNone\u001b[39;00m\n\u001b[1;32m--> 933\u001b[0m \u001b[38;5;28mself\u001b[39m\u001b[38;5;241m.\u001b[39m_engine \u001b[38;5;241m=\u001b[39m \u001b[38;5;28;43mself\u001b[39;49m\u001b[38;5;241;43m.\u001b[39;49m\u001b[43m_make_engine\u001b[49m\u001b[43m(\u001b[49m\u001b[43mf\u001b[49m\u001b[43m,\u001b[49m\u001b[43m \u001b[49m\u001b[38;5;28;43mself\u001b[39;49m\u001b[38;5;241;43m.\u001b[39;49m\u001b[43mengine\u001b[49m\u001b[43m)\u001b[49m\n",
      "File \u001b[1;32m~\\anaconda3\\lib\\site-packages\\pandas\\io\\parsers\\readers.py:1217\u001b[0m, in \u001b[0;36mTextFileReader._make_engine\u001b[1;34m(self, f, engine)\u001b[0m\n\u001b[0;32m   1213\u001b[0m     mode \u001b[38;5;241m=\u001b[39m \u001b[38;5;124m\"\u001b[39m\u001b[38;5;124mrb\u001b[39m\u001b[38;5;124m\"\u001b[39m\n\u001b[0;32m   1214\u001b[0m \u001b[38;5;66;03m# error: No overload variant of \"get_handle\" matches argument types\u001b[39;00m\n\u001b[0;32m   1215\u001b[0m \u001b[38;5;66;03m# \"Union[str, PathLike[str], ReadCsvBuffer[bytes], ReadCsvBuffer[str]]\"\u001b[39;00m\n\u001b[0;32m   1216\u001b[0m \u001b[38;5;66;03m# , \"str\", \"bool\", \"Any\", \"Any\", \"Any\", \"Any\", \"Any\"\u001b[39;00m\n\u001b[1;32m-> 1217\u001b[0m \u001b[38;5;28mself\u001b[39m\u001b[38;5;241m.\u001b[39mhandles \u001b[38;5;241m=\u001b[39m \u001b[43mget_handle\u001b[49m\u001b[43m(\u001b[49m\u001b[43m  \u001b[49m\u001b[38;5;66;43;03m# type: ignore[call-overload]\u001b[39;49;00m\n\u001b[0;32m   1218\u001b[0m \u001b[43m    \u001b[49m\u001b[43mf\u001b[49m\u001b[43m,\u001b[49m\n\u001b[0;32m   1219\u001b[0m \u001b[43m    \u001b[49m\u001b[43mmode\u001b[49m\u001b[43m,\u001b[49m\n\u001b[0;32m   1220\u001b[0m \u001b[43m    \u001b[49m\u001b[43mencoding\u001b[49m\u001b[38;5;241;43m=\u001b[39;49m\u001b[38;5;28;43mself\u001b[39;49m\u001b[38;5;241;43m.\u001b[39;49m\u001b[43moptions\u001b[49m\u001b[38;5;241;43m.\u001b[39;49m\u001b[43mget\u001b[49m\u001b[43m(\u001b[49m\u001b[38;5;124;43m\"\u001b[39;49m\u001b[38;5;124;43mencoding\u001b[39;49m\u001b[38;5;124;43m\"\u001b[39;49m\u001b[43m,\u001b[49m\u001b[43m \u001b[49m\u001b[38;5;28;43;01mNone\u001b[39;49;00m\u001b[43m)\u001b[49m\u001b[43m,\u001b[49m\n\u001b[0;32m   1221\u001b[0m \u001b[43m    \u001b[49m\u001b[43mcompression\u001b[49m\u001b[38;5;241;43m=\u001b[39;49m\u001b[38;5;28;43mself\u001b[39;49m\u001b[38;5;241;43m.\u001b[39;49m\u001b[43moptions\u001b[49m\u001b[38;5;241;43m.\u001b[39;49m\u001b[43mget\u001b[49m\u001b[43m(\u001b[49m\u001b[38;5;124;43m\"\u001b[39;49m\u001b[38;5;124;43mcompression\u001b[39;49m\u001b[38;5;124;43m\"\u001b[39;49m\u001b[43m,\u001b[49m\u001b[43m \u001b[49m\u001b[38;5;28;43;01mNone\u001b[39;49;00m\u001b[43m)\u001b[49m\u001b[43m,\u001b[49m\n\u001b[0;32m   1222\u001b[0m \u001b[43m    \u001b[49m\u001b[43mmemory_map\u001b[49m\u001b[38;5;241;43m=\u001b[39;49m\u001b[38;5;28;43mself\u001b[39;49m\u001b[38;5;241;43m.\u001b[39;49m\u001b[43moptions\u001b[49m\u001b[38;5;241;43m.\u001b[39;49m\u001b[43mget\u001b[49m\u001b[43m(\u001b[49m\u001b[38;5;124;43m\"\u001b[39;49m\u001b[38;5;124;43mmemory_map\u001b[39;49m\u001b[38;5;124;43m\"\u001b[39;49m\u001b[43m,\u001b[49m\u001b[43m \u001b[49m\u001b[38;5;28;43;01mFalse\u001b[39;49;00m\u001b[43m)\u001b[49m\u001b[43m,\u001b[49m\n\u001b[0;32m   1223\u001b[0m \u001b[43m    \u001b[49m\u001b[43mis_text\u001b[49m\u001b[38;5;241;43m=\u001b[39;49m\u001b[43mis_text\u001b[49m\u001b[43m,\u001b[49m\n\u001b[0;32m   1224\u001b[0m \u001b[43m    \u001b[49m\u001b[43merrors\u001b[49m\u001b[38;5;241;43m=\u001b[39;49m\u001b[38;5;28;43mself\u001b[39;49m\u001b[38;5;241;43m.\u001b[39;49m\u001b[43moptions\u001b[49m\u001b[38;5;241;43m.\u001b[39;49m\u001b[43mget\u001b[49m\u001b[43m(\u001b[49m\u001b[38;5;124;43m\"\u001b[39;49m\u001b[38;5;124;43mencoding_errors\u001b[39;49m\u001b[38;5;124;43m\"\u001b[39;49m\u001b[43m,\u001b[49m\u001b[43m \u001b[49m\u001b[38;5;124;43m\"\u001b[39;49m\u001b[38;5;124;43mstrict\u001b[39;49m\u001b[38;5;124;43m\"\u001b[39;49m\u001b[43m)\u001b[49m\u001b[43m,\u001b[49m\n\u001b[0;32m   1225\u001b[0m \u001b[43m    \u001b[49m\u001b[43mstorage_options\u001b[49m\u001b[38;5;241;43m=\u001b[39;49m\u001b[38;5;28;43mself\u001b[39;49m\u001b[38;5;241;43m.\u001b[39;49m\u001b[43moptions\u001b[49m\u001b[38;5;241;43m.\u001b[39;49m\u001b[43mget\u001b[49m\u001b[43m(\u001b[49m\u001b[38;5;124;43m\"\u001b[39;49m\u001b[38;5;124;43mstorage_options\u001b[39;49m\u001b[38;5;124;43m\"\u001b[39;49m\u001b[43m,\u001b[49m\u001b[43m \u001b[49m\u001b[38;5;28;43;01mNone\u001b[39;49;00m\u001b[43m)\u001b[49m\u001b[43m,\u001b[49m\n\u001b[0;32m   1226\u001b[0m \u001b[43m\u001b[49m\u001b[43m)\u001b[49m\n\u001b[0;32m   1227\u001b[0m \u001b[38;5;28;01massert\u001b[39;00m \u001b[38;5;28mself\u001b[39m\u001b[38;5;241m.\u001b[39mhandles \u001b[38;5;129;01mis\u001b[39;00m \u001b[38;5;129;01mnot\u001b[39;00m \u001b[38;5;28;01mNone\u001b[39;00m\n\u001b[0;32m   1228\u001b[0m f \u001b[38;5;241m=\u001b[39m \u001b[38;5;28mself\u001b[39m\u001b[38;5;241m.\u001b[39mhandles\u001b[38;5;241m.\u001b[39mhandle\n",
      "File \u001b[1;32m~\\anaconda3\\lib\\site-packages\\pandas\\io\\common.py:789\u001b[0m, in \u001b[0;36mget_handle\u001b[1;34m(path_or_buf, mode, encoding, compression, memory_map, is_text, errors, storage_options)\u001b[0m\n\u001b[0;32m    784\u001b[0m \u001b[38;5;28;01melif\u001b[39;00m \u001b[38;5;28misinstance\u001b[39m(handle, \u001b[38;5;28mstr\u001b[39m):\n\u001b[0;32m    785\u001b[0m     \u001b[38;5;66;03m# Check whether the filename is to be opened in binary mode.\u001b[39;00m\n\u001b[0;32m    786\u001b[0m     \u001b[38;5;66;03m# Binary mode does not support 'encoding' and 'newline'.\u001b[39;00m\n\u001b[0;32m    787\u001b[0m     \u001b[38;5;28;01mif\u001b[39;00m ioargs\u001b[38;5;241m.\u001b[39mencoding \u001b[38;5;129;01mand\u001b[39;00m \u001b[38;5;124m\"\u001b[39m\u001b[38;5;124mb\u001b[39m\u001b[38;5;124m\"\u001b[39m \u001b[38;5;129;01mnot\u001b[39;00m \u001b[38;5;129;01min\u001b[39;00m ioargs\u001b[38;5;241m.\u001b[39mmode:\n\u001b[0;32m    788\u001b[0m         \u001b[38;5;66;03m# Encoding\u001b[39;00m\n\u001b[1;32m--> 789\u001b[0m         handle \u001b[38;5;241m=\u001b[39m \u001b[38;5;28;43mopen\u001b[39;49m\u001b[43m(\u001b[49m\n\u001b[0;32m    790\u001b[0m \u001b[43m            \u001b[49m\u001b[43mhandle\u001b[49m\u001b[43m,\u001b[49m\n\u001b[0;32m    791\u001b[0m \u001b[43m            \u001b[49m\u001b[43mioargs\u001b[49m\u001b[38;5;241;43m.\u001b[39;49m\u001b[43mmode\u001b[49m\u001b[43m,\u001b[49m\n\u001b[0;32m    792\u001b[0m \u001b[43m            \u001b[49m\u001b[43mencoding\u001b[49m\u001b[38;5;241;43m=\u001b[39;49m\u001b[43mioargs\u001b[49m\u001b[38;5;241;43m.\u001b[39;49m\u001b[43mencoding\u001b[49m\u001b[43m,\u001b[49m\n\u001b[0;32m    793\u001b[0m \u001b[43m            \u001b[49m\u001b[43merrors\u001b[49m\u001b[38;5;241;43m=\u001b[39;49m\u001b[43merrors\u001b[49m\u001b[43m,\u001b[49m\n\u001b[0;32m    794\u001b[0m \u001b[43m            \u001b[49m\u001b[43mnewline\u001b[49m\u001b[38;5;241;43m=\u001b[39;49m\u001b[38;5;124;43m\"\u001b[39;49m\u001b[38;5;124;43m\"\u001b[39;49m\u001b[43m,\u001b[49m\n\u001b[0;32m    795\u001b[0m \u001b[43m        \u001b[49m\u001b[43m)\u001b[49m\n\u001b[0;32m    796\u001b[0m     \u001b[38;5;28;01melse\u001b[39;00m:\n\u001b[0;32m    797\u001b[0m         \u001b[38;5;66;03m# Binary mode\u001b[39;00m\n\u001b[0;32m    798\u001b[0m         handle \u001b[38;5;241m=\u001b[39m \u001b[38;5;28mopen\u001b[39m(handle, ioargs\u001b[38;5;241m.\u001b[39mmode)\n",
      "\u001b[1;31mFileNotFoundError\u001b[0m: [Errno 2] No such file or directory: 'C:/Users/kople/Documents/Work/RA/data/processed/sess1920sem1/student_log.csv'"
     ]
    }
   ],
   "source": [
    "assignments = pd.read_csv(f'{ppath}assignment_consolidated.csv')\n",
    "courses = pd.read_csv(f'{ppath}course_consolidated.csv')\n",
    "grades_courses = pd.read_csv(f'{ppath}grades_courses.csv')\n",
    "grades_consolidated = pd.read_csv(f'{ppath}grades_consolidated.csv')\n",
    "quiz_merged = pd.read_csv(f'{ppath}quiz_merged.csv')\n",
    "forumposts = pd.read_csv(f'{ppath}forumposts.csv')\n",
    "students = pd.read_csv(f'{ppath}students.csv')\n",
    "student_log = pd.read_csv(f'{ppath}student_log.csv')\n",
    "student_logins = pd.read_csv(f'{ppath}student_logins.csv')\n",
    "teachers = pd.read_csv(f'{ppath}teachers.csv')\n",
    "\n",
    "# 'per user' df's\n",
    "assignment_per_user = pd.read_csv(f'{ppath}assignment_per_user.csv')\n",
    "attendance_sessions_per_student = pd.read_csv(f'{ppath}attendance_sessions_per_student.csv')\n",
    "courses_per_user = pd.read_csv(f'{ppath}courses_per_user.csv')\n",
    "log_actions_per_user = pd.read_csv(f'{ppath}log_actions_per_user.csv')\n",
    "mean_posts_per_user = pd.read_csv(f'{ppath}mean_posts_per_user.csv')\n",
    "posts_per_discussion_per_user = pd.read_csv(f'{ppath}posts_per_discussion_per_user.csv')\n",
    "question_attempt_state_count = pd.read_csv(f'{ppath}question_attempt_state_count.csv')\n",
    "questionattempts_per_user = pd.read_csv(f'{ppath}questionattempts_per_user.csv')\n",
    "questionnaire_attempts = pd.read_csv(f'{ppath}questionnaire_attempts.csv')\n",
    "questionnaire_attempts_stats = pd.read_csv(f'{ppath}questionnaire_attempts_stats.csv')\n",
    "quiz_count_quizgrades = pd.read_csv(f'{ppath}quiz_count_quizgrades.csv')\n",
    "quiz_count_quizmerged = pd.read_csv(f'{ppath}quiz_count_quizmerged.csv')\n",
    "quiz_latest_attempts = pd.read_csv(f'{ppath}quiz_latest_attempts.csv')\n",
    "quiz_per_user_quizattempts = pd.read_csv(f'{ppath}quiz_per_user_quizattempts.csv')\n",
    "login_count = pd.read_csv(f'{ppath}login_count.csv')\n",
    "quizattempt_stats = pd.read_csv(f'{ppath}quizattempt_stats.csv')\n",
    "survey_per_user = pd.read_csv(f'{ppath}survey_per_user.csv')\n",
    "surveyquestion_per_user = pd.read_csv(f'{ppath}surveyquestion_per_user.csv')\n",
    "total_posts_per_user = pd.read_csv(f'{ppath}total_posts_per_user.csv')\n",
    "user_per_discussion = pd.read_csv(f'{ppath}users_per_discussion.csv')\n"
   ]
  },
  {
   "cell_type": "code",
   "execution_count": null,
   "metadata": {
    "collapsed": false,
    "jupyter": {
     "outputs_hidden": false
    },
    "pycharm": {
     "name": "#%%\n"
    }
   },
   "outputs": [],
   "source": [
    "frames = [assignment_per_user,\n",
    "          attendance_sessions_per_student,\n",
    "          courses_per_user,\n",
    "          log_actions_per_user,\n",
    "          mean_posts_per_user,\n",
    "          question_attempt_state_count,\n",
    "          questionattempts_per_user,\n",
    "          questionnaire_attempts,\n",
    "          questionnaire_attempts_stats,\n",
    "          quiz_count_quizgrades,\n",
    "          quiz_count_quizmerged,\n",
    "          quiz_latest_attempts,\n",
    "          login_count,\n",
    "          quizattempt_stats,\n",
    "          survey_per_user,\n",
    "          surveyquestion_per_user,\n",
    "          total_posts_per_user]"
   ]
  },
  {
   "cell_type": "markdown",
   "metadata": {
    "id": "VRktBpRpvbM6",
    "pycharm": {
     "name": "#%% md\n"
    }
   },
   "source": [
    "## Custom Functions"
   ]
  },
  {
   "cell_type": "code",
   "execution_count": null,
   "metadata": {
    "executionInfo": {
     "elapsed": 7,
     "status": "ok",
     "timestamp": 1659865006344,
     "user": {
      "displayName": "Bruce Murdock",
      "userId": "12722198424417932396"
     },
     "user_tz": -360
    },
    "id": "kn7LOQIDvbM6",
    "pycharm": {
     "name": "#%%\n"
    }
   },
   "outputs": [],
   "source": [
    "def items_per_user(df,feature, parent_feature=None):\n",
    "    \"\"\"For a given dataframe and feature within that dataframe, items_per_user() returns\n",
    "    a dataframe with the number of items in the feature that belong to or are attributed\n",
    "    to the user id. Note that the function assumes that the df has a column 'userid'.\"\"\"\n",
    "\n",
    "    #preprocessing: sort the df by userid\n",
    "    users = df.sort_values(by='userid').userid.unique()\n",
    "    n_items_per_user = []\n",
    "    if feature not in df.columns:\n",
    "        print('The column', feature,' does not exist')\n",
    "        pass\n",
    "    if parent_feature==None:\n",
    "\n",
    "        for user in users:\n",
    "            #select portion of dataframe specific to the single user and then count number of unique values for the feature\n",
    "            n_items=df[df.userid==user][feature].nunique()\n",
    "            #add the data to the array\n",
    "            n_items_per_user.append(n_items)\n",
    "            #create the dataframe\n",
    "        feature = 'number_of_' + feature +'s' #changing the name of the item column\n",
    "        items_per_user_df = pd.DataFrame({'userid':users,feature:n_items_per_user})\n",
    "\n",
    "    # else:\n",
    "    #     # insert each item of the parent feature into a list\n",
    "    #     parents = df[parent_feature].sort_values().unique()\n",
    "    #     users = df.sort_values(by=parent_feature).userid.unique()\n",
    "    #\n",
    "    #     for user in users: # selecting a user\n",
    "    #         for parent in parents: # iterating through all the parent_feature items\n",
    "    #             n_items = df[(df.userid==user)&(df[parent_feature]==parent)][feature].nunique()\n",
    "    #             n_items_per_user.append(n_items)\n",
    "    #     # create the dataframe\n",
    "    #     feature = 'number_of_' + feature +'s' #changing the name of the item column\n",
    "    #     parent_feature = parent_feature+'id'\n",
    "    #     items_per_user_df = pd.DataFrame({'userid':users, parent_feature:parent, feature:n_items_per_user})\n",
    "\n",
    "\n",
    "\n",
    "    #\n",
    "    # for item in items_parent_feature:\n",
    "    #     # select portion of dataframe specific to the item, count the number of items in the child feature and put into list\n",
    "    #     n_items = df[df[parent_feature]==item][feature].nunique()\n",
    "    #     users = df[df[parent_feature]==item].userid.unique()\n",
    "    #     n_items_per_user.append(n_items)\n",
    "\n",
    "    return items_per_user_df\n",
    "\n",
    "\n",
    "def pcnt_df(df,feature,lbound=None,hbound=None):\n",
    "    \"\"\"Calculate the portion(in percentage) of the dataframe that is populated by values bound by lbound and hbound (You can also use only one bound)\"\"\"\n",
    "    #preprocessing\n",
    "    df_notna = df[df[feature].notna()] #select portion of dataframe that is not empty\n",
    "\n",
    "    if feature not in df.columns:\n",
    "        raise Exception(feature, \"is not a column of the dataframe\")\n",
    "    #if x not in df[feature]:\n",
    "    #raise Exception(x, \"is not within the range of the selected feature.\")\n",
    "    else:\n",
    "        if hbound is None:\n",
    "            df_above_lbound = df_notna[df_notna[feature]>lbound]\n",
    "            pcnt = df_above_lbound.shape[0]/df_notna.shape[0]\n",
    "\n",
    "        elif lbound is None:\n",
    "            df_below_hbound = df_notna[df_notna[feature]<hbound]\n",
    "            pcnt = df_below_hbound.shape[0]/df_notna.shape[0]\n",
    "\n",
    "        elif lbound is not None and hbound is not None:\n",
    "            df_btn_l_h = df_notna[(df_notna[feature]>lbound)&(df_notna[feature]<hbound)]\n",
    "            pcnt = df_btn_l_h.shape[0]/df_notna.shape[0]\n",
    "\n",
    "        return pcnt*100\n",
    "\n",
    "# get name of df\n",
    "def get_df_name(df):\n",
    "    name =[x for x in globals() if globals()[x] is df][0]\n",
    "    return name\n",
    "\n",
    "# find statistical max,min and mean for the data on attempts\n",
    "def find_stats(df,attempt_column):\n",
    "    stat_all = []\n",
    "    for user in df.userid.unique():\n",
    "        df_user = df.loc[df.userid==user]\n",
    "        max_attempt = df_user[attempt_column].max()\n",
    "        min_attempt = df_user[attempt_column].min()\n",
    "        mean_attempt = df_user[attempt_column].mean()\n",
    "        stat_user = [max_attempt,min_attempt,mean_attempt]\n",
    "        stat_all.append(stat_user)\n",
    "\n",
    "    max_attempts = [el[0] for el in stat_all]\n",
    "    min_attempts = [el[1] for el in stat_all]\n",
    "    mean_attempts = [el[2] for el in stat_all]\n",
    "\n",
    "    df2 = pd.DataFrame()\n",
    "    df2['userid'] = df.userid.unique()\n",
    "    df2[f'max_{attempt_column}'] = max_attempts\n",
    "    df2[f'min_{attempt_column}'] = min_attempts\n",
    "    df2[f'mean_{attempt_column}'] = mean_attempts\n",
    "\n",
    "    return df2"
   ]
  },
  {
   "cell_type": "markdown",
   "metadata": {
    "id": "Eg38t0NivbM7",
    "pycharm": {
     "name": "#%% md\n"
    }
   },
   "source": [
    "## EDA: Plots"
   ]
  },
  {
   "cell_type": "markdown",
   "metadata": {
    "id": "pw_QdqhyvbM7",
    "pycharm": {
     "name": "#%% md\n"
    }
   },
   "source": [
    "### assignment count"
   ]
  },
  {
   "cell_type": "code",
   "execution_count": null,
   "metadata": {
    "collapsed": false,
    "jupyter": {
     "outputs_hidden": false
    },
    "pycharm": {
     "name": "#%%\n"
    }
   },
   "outputs": [],
   "source": [
    "assignment_per_user"
   ]
  },
  {
   "cell_type": "code",
   "execution_count": null,
   "metadata": {
    "colab": {
     "base_uri": "https://localhost:8080/",
     "height": 559
    },
    "executionInfo": {
     "elapsed": 2273,
     "status": "ok",
     "timestamp": 1659865008611,
     "user": {
      "displayName": "Bruce Murdock",
      "userId": "12722198424417932396"
     },
     "user_tz": -360
    },
    "id": "QfpWTnwBvbM8",
    "outputId": "953246bd-b0b9-4c7e-8695-668ffa38bdff",
    "pycharm": {
     "name": "#%%\n"
    }
   },
   "outputs": [],
   "source": [
    "print(assignment_per_user.columns)\n",
    "fig = px.scatter(assignment_per_user,\n",
    "                 x='userid',\n",
    "                 y='number_of_assignments',\n",
    "                 color='number_of_assignments')\n",
    "fig.show()"
   ]
  },
  {
   "cell_type": "code",
   "execution_count": null,
   "metadata": {
    "colab": {
     "base_uri": "https://localhost:8080/",
     "height": 542
    },
    "executionInfo": {
     "elapsed": 7,
     "status": "ok",
     "timestamp": 1659865008611,
     "user": {
      "displayName": "Bruce Murdock",
      "userId": "12722198424417932396"
     },
     "user_tz": -360
    },
    "id": "YSu-vobdvbM8",
    "outputId": "511966b1-ba14-4198-fe7a-0f3a96f789c4",
    "pycharm": {
     "name": "#%%\n"
    }
   },
   "outputs": [],
   "source": [
    "fig = px.box(assignment_per_user,\n",
    "             y='number_of_assignments')\n",
    "fig.show()"
   ]
  },
  {
   "cell_type": "code",
   "execution_count": null,
   "metadata": {
    "colab": {
     "base_uri": "https://localhost:8080/",
     "height": 542
    },
    "executionInfo": {
     "elapsed": 640,
     "status": "ok",
     "timestamp": 1659865009245,
     "user": {
      "displayName": "Bruce Murdock",
      "userId": "12722198424417932396"
     },
     "user_tz": -360
    },
    "id": "WK4EquLTvbM8",
    "outputId": "0598df7c-cd80-4025-f77c-91c3bc8e4c55",
    "pycharm": {
     "name": "#%%\n"
    }
   },
   "outputs": [],
   "source": [
    "fig = px.histogram(assignment_per_user,\n",
    "                   x='number_of_assignments',\n",
    "                   color='number_of_assignments')\n",
    "fig.show()"
   ]
  },
  {
   "cell_type": "markdown",
   "metadata": {
    "pycharm": {
     "name": "#%% md\n"
    }
   },
   "source": [
    "### attendance sessions"
   ]
  },
  {
   "cell_type": "code",
   "execution_count": null,
   "metadata": {
    "collapsed": false,
    "jupyter": {
     "outputs_hidden": false
    },
    "pycharm": {
     "name": "#%%\n"
    }
   },
   "outputs": [],
   "source": [
    "attendance_sessions_per_student.head()"
   ]
  },
  {
   "cell_type": "code",
   "execution_count": null,
   "metadata": {
    "collapsed": false,
    "jupyter": {
     "outputs_hidden": false
    },
    "pycharm": {
     "name": "#%%\n"
    }
   },
   "outputs": [],
   "source": [
    "fig = px.box(attendance_sessions_per_student,\n",
    "             y='number_of_sessionids')\n",
    "fig.show()"
   ]
  },
  {
   "cell_type": "code",
   "execution_count": null,
   "metadata": {
    "collapsed": false,
    "jupyter": {
     "outputs_hidden": false
    },
    "pycharm": {
     "name": "#%%\n"
    }
   },
   "outputs": [],
   "source": [
    "fig = px.histogram(attendance_sessions_per_student,\n",
    "                   x='number_of_sessionids')\n",
    "fig.show()"
   ]
  },
  {
   "cell_type": "markdown",
   "metadata": {
    "id": "zGV2PxIgvbM8",
    "pycharm": {
     "name": "#%% md\n"
    }
   },
   "source": [
    "### course count"
   ]
  },
  {
   "cell_type": "code",
   "execution_count": null,
   "metadata": {
    "colab": {
     "base_uri": "https://localhost:8080/",
     "height": 206
    },
    "executionInfo": {
     "elapsed": 38,
     "status": "ok",
     "timestamp": 1659865009246,
     "user": {
      "displayName": "Bruce Murdock",
      "userId": "12722198424417932396"
     },
     "user_tz": -360
    },
    "id": "lXrrMFemvbM8",
    "outputId": "2c0f5487-1b98-46e5-f25e-0fc4a12a4045",
    "pycharm": {
     "name": "#%%\n"
    }
   },
   "outputs": [],
   "source": [
    "courses_per_user.head()"
   ]
  },
  {
   "cell_type": "code",
   "execution_count": null,
   "metadata": {
    "colab": {
     "base_uri": "https://localhost:8080/",
     "height": 542
    },
    "executionInfo": {
     "elapsed": 25,
     "status": "ok",
     "timestamp": 1659865009246,
     "user": {
      "displayName": "Bruce Murdock",
      "userId": "12722198424417932396"
     },
     "user_tz": -360
    },
    "id": "ZJR5KwYOvbM8",
    "outputId": "dd009da3-9936-499d-8b7c-45ffd4946a3e",
    "pycharm": {
     "name": "#%%\n"
    }
   },
   "outputs": [],
   "source": [
    "fig = px.scatter(courses_per_user,\n",
    "                 x='userid',\n",
    "                 y='number_of_courseids')\n",
    "fig.show()"
   ]
  },
  {
   "cell_type": "code",
   "execution_count": null,
   "metadata": {
    "colab": {
     "base_uri": "https://localhost:8080/",
     "height": 542
    },
    "executionInfo": {
     "elapsed": 14,
     "status": "ok",
     "timestamp": 1659865009247,
     "user": {
      "displayName": "Bruce Murdock",
      "userId": "12722198424417932396"
     },
     "user_tz": -360
    },
    "id": "o5w329VdvbM9",
    "outputId": "f0ec3668-41bb-412b-bced-c9df67c70b15",
    "pycharm": {
     "name": "#%%\n"
    }
   },
   "outputs": [],
   "source": [
    "fig = px.box(courses_per_user,\n",
    "                 y='number_of_courseids')\n",
    "fig.show()"
   ]
  },
  {
   "cell_type": "code",
   "execution_count": null,
   "metadata": {
    "colab": {
     "base_uri": "https://localhost:8080/",
     "height": 542
    },
    "executionInfo": {
     "elapsed": 890,
     "status": "ok",
     "timestamp": 1659865010125,
     "user": {
      "displayName": "Bruce Murdock",
      "userId": "12722198424417932396"
     },
     "user_tz": -360
    },
    "id": "nrFK51O_vbM9",
    "outputId": "9aaa4981-5e6a-475e-83f9-b15e262b68e0",
    "pycharm": {
     "name": "#%%\n"
    }
   },
   "outputs": [],
   "source": [
    "fig = px.histogram(courses_per_user,\n",
    "                 x='number_of_courseids',\n",
    "                 color='number_of_courseids')\n",
    "fig.show()"
   ]
  },
  {
   "cell_type": "markdown",
   "metadata": {
    "id": "2JkiD8wjvbM9",
    "pycharm": {
     "name": "#%% md\n"
    }
   },
   "source": [
    "### login count"
   ]
  },
  {
   "cell_type": "code",
   "execution_count": null,
   "metadata": {
    "colab": {
     "base_uri": "https://localhost:8080/",
     "height": 206
    },
    "executionInfo": {
     "elapsed": 12,
     "status": "ok",
     "timestamp": 1659865010125,
     "user": {
      "displayName": "Bruce Murdock",
      "userId": "12722198424417932396"
     },
     "user_tz": -360
    },
    "id": "dnCrBKq0vbM9",
    "outputId": "3d6cadaa-4be8-4258-bbef-da9b6744794b",
    "pycharm": {
     "name": "#%%\n"
    }
   },
   "outputs": [],
   "source": [
    "login_count.head()"
   ]
  },
  {
   "cell_type": "code",
   "execution_count": null,
   "metadata": {
    "colab": {
     "base_uri": "https://localhost:8080/",
     "height": 542
    },
    "executionInfo": {
     "elapsed": 11,
     "status": "ok",
     "timestamp": 1659865010126,
     "user": {
      "displayName": "Bruce Murdock",
      "userId": "12722198424417932396"
     },
     "user_tz": -360
    },
    "id": "qsmf7cEDvbM9",
    "outputId": "d855cf6f-551e-4e58-cd5e-3307b29a5f80",
    "pycharm": {
     "name": "#%%\n"
    }
   },
   "outputs": [],
   "source": [
    "fig = px.scatter(login_count,\n",
    "                 x='userid',\n",
    "                 y='number_of_logins',\n",
    "                 color='number_of_logins')\n",
    "fig.show()"
   ]
  },
  {
   "cell_type": "code",
   "execution_count": null,
   "metadata": {
    "colab": {
     "base_uri": "https://localhost:8080/",
     "height": 542
    },
    "executionInfo": {
     "elapsed": 9,
     "status": "ok",
     "timestamp": 1659865010126,
     "user": {
      "displayName": "Bruce Murdock",
      "userId": "12722198424417932396"
     },
     "user_tz": -360
    },
    "id": "1PpCfh3CvbM9",
    "outputId": "2c416435-3dc1-4a73-ca5b-16f07e1890f0",
    "pycharm": {
     "name": "#%%\n"
    }
   },
   "outputs": [],
   "source": [
    "fig = px.box(login_count,\n",
    "             y='number_of_logins')\n",
    "fig.show()"
   ]
  },
  {
   "cell_type": "code",
   "execution_count": null,
   "metadata": {
    "colab": {
     "base_uri": "https://localhost:8080/",
     "height": 542
    },
    "executionInfo": {
     "elapsed": 3733,
     "status": "ok",
     "timestamp": 1659865013851,
     "user": {
      "displayName": "Bruce Murdock",
      "userId": "12722198424417932396"
     },
     "user_tz": -360
    },
    "id": "5xRt5V9hvbM-",
    "outputId": "b52d631d-0c25-41be-dd01-b413c8a09214",
    "pycharm": {
     "name": "#%%\n"
    }
   },
   "outputs": [],
   "source": [
    "fig = px.histogram(login_count,\n",
    "                   x='number_of_logins',\n",
    "                   color='number_of_logins')\n",
    "fig.show()"
   ]
  },
  {
   "cell_type": "markdown",
   "metadata": {
    "pycharm": {
     "name": "#%% md\n"
    }
   },
   "source": [
    "### Log actions"
   ]
  },
  {
   "cell_type": "code",
   "execution_count": null,
   "metadata": {
    "collapsed": false,
    "jupyter": {
     "outputs_hidden": false
    },
    "pycharm": {
     "name": "#%%\n"
    }
   },
   "outputs": [],
   "source": [
    "log_actions_per_user"
   ]
  },
  {
   "cell_type": "code",
   "execution_count": null,
   "metadata": {
    "collapsed": false,
    "jupyter": {
     "outputs_hidden": false
    },
    "pycharm": {
     "name": "#%%\n"
    }
   },
   "outputs": [],
   "source": [
    "log_actions_per_user.describe().loc['mean',:]"
   ]
  },
  {
   "cell_type": "markdown",
   "metadata": {
    "pycharm": {
     "name": "#%% md\n"
    }
   },
   "source": [
    "### mean posts per user"
   ]
  },
  {
   "cell_type": "code",
   "execution_count": null,
   "metadata": {
    "collapsed": false,
    "jupyter": {
     "outputs_hidden": false
    },
    "pycharm": {
     "name": "#%%\n"
    }
   },
   "outputs": [],
   "source": [
    "mean_posts_per_user"
   ]
  },
  {
   "cell_type": "code",
   "execution_count": null,
   "metadata": {
    "collapsed": false,
    "jupyter": {
     "outputs_hidden": false
    },
    "pycharm": {
     "name": "#%%\n"
    }
   },
   "outputs": [],
   "source": [
    "fig = px.scatter(mean_posts_per_user,\n",
    "                 x='userid',\n",
    "                 y='mean_posts')\n",
    "fig.show()"
   ]
  },
  {
   "cell_type": "code",
   "execution_count": null,
   "metadata": {
    "collapsed": false,
    "jupyter": {
     "outputs_hidden": false
    },
    "pycharm": {
     "name": "#%%\n"
    }
   },
   "outputs": [],
   "source": [
    "fig = px.histogram(mean_posts_per_user,x='mean_posts')\n",
    "fig.show()"
   ]
  },
  {
   "cell_type": "code",
   "execution_count": null,
   "metadata": {
    "collapsed": false,
    "jupyter": {
     "outputs_hidden": false
    },
    "pycharm": {
     "name": "#%%\n"
    }
   },
   "outputs": [],
   "source": [
    "fig = px.box(mean_posts_per_user,y='mean_posts')\n",
    "fig.show()"
   ]
  },
  {
   "cell_type": "markdown",
   "metadata": {
    "pycharm": {
     "name": "#%% md\n"
    }
   },
   "source": [
    "### question attempt state count"
   ]
  },
  {
   "cell_type": "code",
   "execution_count": null,
   "metadata": {
    "collapsed": false,
    "jupyter": {
     "outputs_hidden": false
    },
    "pycharm": {
     "name": "#%%\n"
    }
   },
   "outputs": [],
   "source": [
    "question_attempt_state_count"
   ]
  },
  {
   "cell_type": "code",
   "execution_count": null,
   "metadata": {
    "collapsed": false,
    "jupyter": {
     "outputs_hidden": false
    },
    "pycharm": {
     "name": "#%%\n"
    }
   },
   "outputs": [],
   "source": [
    "msno.matrix(question_attempt_state_count)"
   ]
  },
  {
   "cell_type": "markdown",
   "metadata": {
    "id": "WEKBcrN6vbM-",
    "pycharm": {
     "name": "#%% md\n"
    }
   },
   "source": [
    "### question attempts per user"
   ]
  },
  {
   "cell_type": "code",
   "execution_count": null,
   "metadata": {
    "colab": {
     "base_uri": "https://localhost:8080/",
     "height": 424
    },
    "executionInfo": {
     "elapsed": 17,
     "status": "ok",
     "timestamp": 1659865013852,
     "user": {
      "displayName": "Bruce Murdock",
      "userId": "12722198424417932396"
     },
     "user_tz": -360
    },
    "id": "44ggftSAvbM-",
    "outputId": "69451889-3018-413e-b843-59b9e2e9334c",
    "pycharm": {
     "name": "#%%\n"
    }
   },
   "outputs": [],
   "source": [
    "questionattempts_per_user"
   ]
  },
  {
   "cell_type": "code",
   "execution_count": null,
   "metadata": {
    "collapsed": false,
    "jupyter": {
     "outputs_hidden": false
    },
    "pycharm": {
     "name": "#%%\n"
    }
   },
   "outputs": [],
   "source": [
    "questionattempts_per_user.rename(columns={'number_of_attempts':'question_attempts'},inplace=True)"
   ]
  },
  {
   "cell_type": "code",
   "execution_count": null,
   "metadata": {
    "collapsed": false,
    "jupyter": {
     "outputs_hidden": false
    },
    "pycharm": {
     "name": "#%%\n"
    }
   },
   "outputs": [],
   "source": [
    "fig = px.scatter(questionattempts_per_user,x='userid',y='question_attempts')\n",
    "fig.show()"
   ]
  },
  {
   "cell_type": "code",
   "execution_count": null,
   "metadata": {
    "collapsed": false,
    "jupyter": {
     "outputs_hidden": false
    },
    "pycharm": {
     "name": "#%%\n"
    }
   },
   "outputs": [],
   "source": [
    "fig = px.box(questionattempts_per_user,y='question_attempts')\n",
    "fig.show()"
   ]
  },
  {
   "cell_type": "code",
   "execution_count": null,
   "metadata": {
    "collapsed": false,
    "jupyter": {
     "outputs_hidden": false
    },
    "pycharm": {
     "name": "#%%\n"
    }
   },
   "outputs": [],
   "source": [
    "fig = px.histogram(questionattempts_per_user,x='question_attempts')\n",
    "fig.show()"
   ]
  },
  {
   "cell_type": "code",
   "execution_count": null,
   "metadata": {
    "collapsed": false,
    "jupyter": {
     "outputs_hidden": false
    },
    "pycharm": {
     "name": "#%%\n"
    }
   },
   "outputs": [],
   "source": [
    "fig = px.histogram(questionattempts_per_user[questionattempts_per_user.question_attempts<1000],x='question_attempts')\n",
    "fig.show()"
   ]
  },
  {
   "cell_type": "markdown",
   "metadata": {
    "pycharm": {
     "name": "#%% md\n"
    }
   },
   "source": [
    "### questionnaire attempts"
   ]
  },
  {
   "cell_type": "code",
   "execution_count": null,
   "metadata": {
    "collapsed": false,
    "jupyter": {
     "outputs_hidden": false
    },
    "pycharm": {
     "name": "#%%\n"
    }
   },
   "outputs": [],
   "source": [
    "questionnaire_attempts"
   ]
  },
  {
   "cell_type": "markdown",
   "metadata": {
    "pycharm": {
     "name": "#%% md\n"
    }
   },
   "source": [
    "### questionnaire_attempt_stats"
   ]
  },
  {
   "cell_type": "code",
   "execution_count": null,
   "metadata": {
    "collapsed": false,
    "jupyter": {
     "outputs_hidden": false
    },
    "pycharm": {
     "name": "#%%\n"
    }
   },
   "outputs": [],
   "source": [
    "questionnaire_attempts_stats.head()"
   ]
  },
  {
   "cell_type": "code",
   "execution_count": null,
   "metadata": {
    "collapsed": false,
    "jupyter": {
     "outputs_hidden": false
    },
    "pycharm": {
     "name": "#%%\n"
    }
   },
   "outputs": [],
   "source": [
    "questionnaire_attempts_stats.drop(['userid'],axis=1).describe()"
   ]
  },
  {
   "cell_type": "markdown",
   "metadata": {
    "id": "1JKJHPrwvbM-",
    "pycharm": {
     "name": "#%% md\n"
    }
   },
   "source": [
    "### Survey count"
   ]
  },
  {
   "cell_type": "code",
   "execution_count": null,
   "metadata": {
    "colab": {
     "base_uri": "https://localhost:8080/",
     "height": 424
    },
    "executionInfo": {
     "elapsed": 13,
     "status": "ok",
     "timestamp": 1659865014345,
     "user": {
      "displayName": "Bruce Murdock",
      "userId": "12722198424417932396"
     },
     "user_tz": -360
    },
    "id": "kdkvGB1VvbM_",
    "outputId": "5cb380fd-7213-4f32-fd4a-79f519fdd309",
    "pycharm": {
     "name": "#%%\n"
    }
   },
   "outputs": [],
   "source": [
    "survey_per_user"
   ]
  },
  {
   "cell_type": "code",
   "execution_count": null,
   "metadata": {
    "colab": {
     "base_uri": "https://localhost:8080/",
     "height": 542
    },
    "executionInfo": {
     "elapsed": 12,
     "status": "ok",
     "timestamp": 1659865014345,
     "user": {
      "displayName": "Bruce Murdock",
      "userId": "12722198424417932396"
     },
     "user_tz": -360
    },
    "id": "dcmlpklGvbM_",
    "outputId": "418db4cd-c6d3-4b9d-f933-4e255f90c48c",
    "pycharm": {
     "name": "#%%\n"
    }
   },
   "outputs": [],
   "source": [
    "fig = px.scatter(survey_per_user,\n",
    "                 x='userid',\n",
    "                 y='number_of_surveys',\n",
    "                 color='number_of_surveys')\n",
    "fig.show()"
   ]
  },
  {
   "cell_type": "code",
   "execution_count": null,
   "metadata": {
    "colab": {
     "base_uri": "https://localhost:8080/",
     "height": 542
    },
    "executionInfo": {
     "elapsed": 12,
     "status": "ok",
     "timestamp": 1659865014345,
     "user": {
      "displayName": "Bruce Murdock",
      "userId": "12722198424417932396"
     },
     "user_tz": -360
    },
    "id": "BI-bmUMcvbM_",
    "outputId": "e79fcdfe-2ce2-4123-cd01-e927003df7e6",
    "pycharm": {
     "name": "#%%\n"
    }
   },
   "outputs": [],
   "source": [
    "fig = px.box(survey_per_user,\n",
    "                 y='number_of_surveys')\n",
    "fig.show()"
   ]
  },
  {
   "cell_type": "code",
   "execution_count": null,
   "metadata": {
    "collapsed": false,
    "jupyter": {
     "outputs_hidden": false
    },
    "pycharm": {
     "name": "#%%\n"
    }
   },
   "outputs": [],
   "source": [
    "survey_per_user.describe()"
   ]
  },
  {
   "cell_type": "markdown",
   "metadata": {
    "id": "FF8GJYjSvbM_",
    "pycharm": {
     "name": "#%% md\n"
    }
   },
   "source": [
    "### Survey question count"
   ]
  },
  {
   "cell_type": "code",
   "execution_count": null,
   "metadata": {
    "collapsed": false,
    "jupyter": {
     "outputs_hidden": false
    },
    "pycharm": {
     "name": "#%%\n"
    }
   },
   "outputs": [],
   "source": [
    "surveyquestion_count = surveyquestion_per_user"
   ]
  },
  {
   "cell_type": "code",
   "execution_count": null,
   "metadata": {
    "colab": {
     "base_uri": "https://localhost:8080/",
     "height": 206
    },
    "executionInfo": {
     "elapsed": 11,
     "status": "ok",
     "timestamp": 1659865014345,
     "user": {
      "displayName": "Bruce Murdock",
      "userId": "12722198424417932396"
     },
     "user_tz": -360
    },
    "id": "IIHXNvTdvbM_",
    "outputId": "aba8dfdf-3a62-47c8-de0f-be6d1db64faa",
    "pycharm": {
     "name": "#%%\n"
    }
   },
   "outputs": [],
   "source": [
    "surveyquestion_count.head()"
   ]
  },
  {
   "cell_type": "code",
   "execution_count": null,
   "metadata": {
    "colab": {
     "base_uri": "https://localhost:8080/",
     "height": 542
    },
    "executionInfo": {
     "elapsed": 573,
     "status": "ok",
     "timestamp": 1659865014908,
     "user": {
      "displayName": "Bruce Murdock",
      "userId": "12722198424417932396"
     },
     "user_tz": -360
    },
    "id": "Z2y6YrXQvbM_",
    "outputId": "b904306c-0a93-4983-e6b4-018ef376e86e",
    "pycharm": {
     "name": "#%%\n"
    }
   },
   "outputs": [],
   "source": [
    "fig = px.scatter(surveyquestion_count,\n",
    "                 x='userid',\n",
    "                 y='number_of_questions',\n",
    "                 color='number_of_questions')\n",
    "fig.show()"
   ]
  },
  {
   "cell_type": "code",
   "execution_count": null,
   "metadata": {
    "colab": {
     "base_uri": "https://localhost:8080/",
     "height": 542
    },
    "executionInfo": {
     "elapsed": 24,
     "status": "ok",
     "timestamp": 1659865014909,
     "user": {
      "displayName": "Bruce Murdock",
      "userId": "12722198424417932396"
     },
     "user_tz": -360
    },
    "id": "4k8rzlHCvbM_",
    "outputId": "8429528a-4989-4711-9cf2-102155159d76",
    "pycharm": {
     "name": "#%%\n"
    }
   },
   "outputs": [],
   "source": [
    "fig = px.box(surveyquestion_count,\n",
    "             y='number_of_questions')\n",
    "fig.show()"
   ]
  },
  {
   "cell_type": "code",
   "execution_count": null,
   "metadata": {
    "colab": {
     "base_uri": "https://localhost:8080/",
     "height": 542
    },
    "executionInfo": {
     "elapsed": 21,
     "status": "ok",
     "timestamp": 1659865014909,
     "user": {
      "displayName": "Bruce Murdock",
      "userId": "12722198424417932396"
     },
     "user_tz": -360
    },
    "id": "yS3Ornp2vbM_",
    "outputId": "6e76fe4a-21f9-42ad-e51f-33c7fd973913",
    "pycharm": {
     "name": "#%%\n"
    }
   },
   "outputs": [],
   "source": [
    "fig = px.histogram(surveyquestion_count,\n",
    "                   x='number_of_questions',\n",
    "                   color='number_of_questions')\n",
    "fig.show()"
   ]
  },
  {
   "cell_type": "markdown",
   "metadata": {
    "pycharm": {
     "name": "#%% md\n"
    }
   },
   "source": [
    "### quiz count (quiz grades)"
   ]
  },
  {
   "cell_type": "markdown",
   "metadata": {
    "id": "7GY9KgsBvbM_",
    "pycharm": {
     "name": "#%% md\n"
    }
   },
   "source": [
    "### quiz count (quiz merged)"
   ]
  },
  {
   "cell_type": "code",
   "execution_count": null,
   "metadata": {
    "colab": {
     "base_uri": "https://localhost:8080/",
     "height": 206
    },
    "executionInfo": {
     "elapsed": 20,
     "status": "ok",
     "timestamp": 1659865014910,
     "user": {
      "displayName": "Bruce Murdock",
      "userId": "12722198424417932396"
     },
     "user_tz": -360
    },
    "id": "Puzov-QnvbNA",
    "outputId": "a31f191f-5756-45eb-ad31-2024c257e4e5",
    "pycharm": {
     "name": "#%%\n"
    }
   },
   "outputs": [],
   "source": [
    "quiz_count_quizmerged"
   ]
  },
  {
   "cell_type": "code",
   "execution_count": null,
   "metadata": {
    "colab": {
     "base_uri": "https://localhost:8080/",
     "height": 542
    },
    "executionInfo": {
     "elapsed": 19,
     "status": "ok",
     "timestamp": 1659865014910,
     "user": {
      "displayName": "Bruce Murdock",
      "userId": "12722198424417932396"
     },
     "user_tz": -360
    },
    "id": "XI2XeLK_vbNA",
    "outputId": "d3db6af9-9860-45c8-ba57-e3c5f4424382",
    "pycharm": {
     "name": "#%%\n"
    }
   },
   "outputs": [],
   "source": [
    "fig = px.scatter(quiz_count_quizmerged,\n",
    "                 x='userid',\n",
    "                 y='number_of_quizs',\n",
    "                 color='number_of_quizs')\n",
    "fig.show()"
   ]
  },
  {
   "cell_type": "code",
   "execution_count": null,
   "metadata": {
    "colab": {
     "base_uri": "https://localhost:8080/",
     "height": 542
    },
    "executionInfo": {
     "elapsed": 475,
     "status": "ok",
     "timestamp": 1659865015368,
     "user": {
      "displayName": "Bruce Murdock",
      "userId": "12722198424417932396"
     },
     "user_tz": -360
    },
    "id": "LElXlXORvbNA",
    "outputId": "7138729d-d289-4472-c02f-af368a403ace",
    "pycharm": {
     "name": "#%%\n"
    }
   },
   "outputs": [],
   "source": [
    "fig = px.box(quiz_count_quizmerged,\n",
    "                 y='number_of_quizs')\n",
    "fig.show()"
   ]
  },
  {
   "cell_type": "code",
   "execution_count": null,
   "metadata": {
    "colab": {
     "base_uri": "https://localhost:8080/",
     "height": 542
    },
    "executionInfo": {
     "elapsed": 8,
     "status": "ok",
     "timestamp": 1659865015369,
     "user": {
      "displayName": "Bruce Murdock",
      "userId": "12722198424417932396"
     },
     "user_tz": -360
    },
    "id": "yuOw0FGNvbNA",
    "outputId": "5f08543c-1f3c-4be2-f98c-05445f6590a5",
    "pycharm": {
     "name": "#%%\n"
    }
   },
   "outputs": [],
   "source": [
    "fig = px.histogram(quiz_count_quizmerged,\n",
    "                   x='number_of_quizs',\n",
    "                   color='number_of_quizs')\n",
    "fig.show()"
   ]
  },
  {
   "cell_type": "markdown",
   "metadata": {
    "id": "MAobONt7vbNA",
    "pycharm": {
     "name": "#%% md\n"
    }
   },
   "source": [
    "### quiz latest attempts (quiz attempts count)"
   ]
  },
  {
   "cell_type": "code",
   "execution_count": null,
   "metadata": {
    "colab": {
     "base_uri": "https://localhost:8080/",
     "height": 206
    },
    "executionInfo": {
     "elapsed": 7,
     "status": "ok",
     "timestamp": 1659865015369,
     "user": {
      "displayName": "Bruce Murdock",
      "userId": "12722198424417932396"
     },
     "user_tz": -360
    },
    "id": "JT6z76oAvbNA",
    "outputId": "7b575364-718d-442e-9f30-00fd14ebd8ad",
    "pycharm": {
     "name": "#%%\n"
    }
   },
   "outputs": [],
   "source": [
    "quiz_latest_attempts.sort_values('userid')"
   ]
  },
  {
   "cell_type": "markdown",
   "metadata": {
    "pycharm": {
     "name": "#%% md\n"
    }
   },
   "source": [
    "### quiz per user quiz (quiz attempts)"
   ]
  },
  {
   "cell_type": "code",
   "execution_count": null,
   "metadata": {
    "collapsed": false,
    "jupyter": {
     "outputs_hidden": false
    },
    "pycharm": {
     "name": "#%%\n"
    }
   },
   "outputs": [],
   "source": [
    "quiz_per_user_quizattempts"
   ]
  },
  {
   "cell_type": "code",
   "execution_count": null,
   "metadata": {
    "colab": {
     "base_uri": "https://localhost:8080/",
     "height": 542
    },
    "executionInfo": {
     "elapsed": 500,
     "status": "ok",
     "timestamp": 1659865015863,
     "user": {
      "displayName": "Bruce Murdock",
      "userId": "12722198424417932396"
     },
     "user_tz": -360
    },
    "id": "IQ4DPGm9vbNA",
    "outputId": "28e3be77-0fa8-454f-9f9b-5dad3897c2df",
    "pycharm": {
     "name": "#%%\n"
    }
   },
   "outputs": [],
   "source": [
    "fig = px.scatter(quiz_per_user_quizattempts,\n",
    "                 x='userid',\n",
    "                 y='number_of_quizs',\n",
    "                 color='number_of_quizs')\n",
    "fig.show()"
   ]
  },
  {
   "cell_type": "code",
   "execution_count": null,
   "metadata": {
    "colab": {
     "base_uri": "https://localhost:8080/",
     "height": 542
    },
    "executionInfo": {
     "elapsed": 14,
     "status": "ok",
     "timestamp": 1659865015864,
     "user": {
      "displayName": "Bruce Murdock",
      "userId": "12722198424417932396"
     },
     "user_tz": -360
    },
    "id": "2Jk8-NayvbNA",
    "outputId": "ef7c90e0-4805-4c13-de1e-93f505cc50e1",
    "pycharm": {
     "name": "#%%\n"
    }
   },
   "outputs": [],
   "source": [
    "fig = px.box(quiz_per_user_quizattempts,\n",
    "             y='number_of_quizs')\n",
    "fig.show()"
   ]
  },
  {
   "cell_type": "code",
   "execution_count": null,
   "metadata": {
    "colab": {
     "base_uri": "https://localhost:8080/",
     "height": 542
    },
    "executionInfo": {
     "elapsed": 13,
     "status": "ok",
     "timestamp": 1659865015864,
     "user": {
      "displayName": "Bruce Murdock",
      "userId": "12722198424417932396"
     },
     "user_tz": -360
    },
    "id": "evoINACwvbNA",
    "outputId": "b4182abc-de49-499d-a9be-7f57fbb75f0c",
    "pycharm": {
     "name": "#%%\n"
    }
   },
   "outputs": [],
   "source": [
    "fig = px.histogram(quiz_per_user_quizattempts,\n",
    "                   x='number_of_quizs',\n",
    "                   color='number_of_quizs')\n",
    "fig.show()"
   ]
  },
  {
   "cell_type": "markdown",
   "metadata": {
    "id": "UBrxfrTfvbNA",
    "pycharm": {
     "name": "#%% md\n"
    }
   },
   "source": [
    "### Total posts"
   ]
  },
  {
   "cell_type": "code",
   "execution_count": null,
   "metadata": {
    "colab": {
     "base_uri": "https://localhost:8080/",
     "height": 206
    },
    "executionInfo": {
     "elapsed": 12,
     "status": "ok",
     "timestamp": 1659865015864,
     "user": {
      "displayName": "Bruce Murdock",
      "userId": "12722198424417932396"
     },
     "user_tz": -360
    },
    "id": "tsKHBJ2svbNB",
    "outputId": "2152056b-79af-4a3c-8408-b6cfaa1f88fc",
    "pycharm": {
     "name": "#%%\n"
    }
   },
   "outputs": [],
   "source": [
    "total_posts_per_user.head()"
   ]
  },
  {
   "cell_type": "code",
   "execution_count": null,
   "metadata": {
    "colab": {
     "base_uri": "https://localhost:8080/",
     "height": 542
    },
    "executionInfo": {
     "elapsed": 521,
     "status": "ok",
     "timestamp": 1659865016374,
     "user": {
      "displayName": "Bruce Murdock",
      "userId": "12722198424417932396"
     },
     "user_tz": -360
    },
    "id": "aeDu08M3vbNB",
    "outputId": "8d841e22-0120-4982-9db0-4979f62569f9",
    "pycharm": {
     "name": "#%%\n"
    }
   },
   "outputs": [],
   "source": [
    "fig = px.scatter(total_posts_per_user,\n",
    "                 x='userid',\n",
    "                 y='count',\n",
    "                 color='count')\n",
    "fig.show()"
   ]
  },
  {
   "cell_type": "code",
   "execution_count": null,
   "metadata": {
    "colab": {
     "base_uri": "https://localhost:8080/",
     "height": 542
    },
    "executionInfo": {
     "elapsed": 9,
     "status": "ok",
     "timestamp": 1659865016375,
     "user": {
      "displayName": "Bruce Murdock",
      "userId": "12722198424417932396"
     },
     "user_tz": -360
    },
    "id": "QAZyUi5LvbNB",
    "outputId": "5a4c733b-34db-44b8-f09f-acb174a81d9f",
    "pycharm": {
     "name": "#%%\n"
    }
   },
   "outputs": [],
   "source": [
    "fig = px.box(total_posts_per_user,\n",
    "                 y='count')\n",
    "fig.show()"
   ]
  },
  {
   "cell_type": "code",
   "execution_count": null,
   "metadata": {
    "colab": {
     "base_uri": "https://localhost:8080/",
     "height": 542
    },
    "executionInfo": {
     "elapsed": 416,
     "status": "ok",
     "timestamp": 1659865016783,
     "user": {
      "displayName": "Bruce Murdock",
      "userId": "12722198424417932396"
     },
     "user_tz": -360
    },
    "id": "a1qLAKflvbNB",
    "outputId": "4150c39f-225f-43b7-9f4d-9f94319c45f1",
    "pycharm": {
     "name": "#%%\n"
    }
   },
   "outputs": [],
   "source": [
    "fig = px.histogram(total_posts_per_user,\n",
    "             x='count')\n",
    "fig.show()"
   ]
  },
  {
   "cell_type": "markdown",
   "metadata": {
    "id": "D1CRuZLGvbNB",
    "pycharm": {
     "name": "#%% md\n"
    }
   },
   "source": [
    "### User count in discussions"
   ]
  },
  {
   "cell_type": "code",
   "execution_count": null,
   "metadata": {
    "colab": {
     "base_uri": "https://localhost:8080/",
     "height": 424
    },
    "executionInfo": {
     "elapsed": 6,
     "status": "ok",
     "timestamp": 1659865016784,
     "user": {
      "displayName": "Bruce Murdock",
      "userId": "12722198424417932396"
     },
     "user_tz": -360
    },
    "id": "lMha9ppJvbNB",
    "outputId": "97f770e2-ed16-43d4-c173-ec514b9192b9",
    "pycharm": {
     "name": "#%%\n"
    }
   },
   "outputs": [],
   "source": [
    "user_count_discussion = user_per_discussion"
   ]
  },
  {
   "cell_type": "code",
   "execution_count": null,
   "metadata": {
    "collapsed": false,
    "jupyter": {
     "outputs_hidden": false
    },
    "pycharm": {
     "name": "#%%\n"
    }
   },
   "outputs": [],
   "source": [
    "user_count_discussion"
   ]
  },
  {
   "cell_type": "code",
   "execution_count": null,
   "metadata": {
    "colab": {
     "base_uri": "https://localhost:8080/",
     "height": 542
    },
    "executionInfo": {
     "elapsed": 539,
     "status": "ok",
     "timestamp": 1659865017318,
     "user": {
      "displayName": "Bruce Murdock",
      "userId": "12722198424417932396"
     },
     "user_tz": -360
    },
    "id": "3uskjrIHvbNB",
    "outputId": "13506b10-1128-4b01-81c8-aaca481e8443",
    "pycharm": {
     "name": "#%%\n"
    }
   },
   "outputs": [],
   "source": [
    "fig = px.scatter(user_count_discussion,\n",
    "                 x='discussion',\n",
    "                 y='number_of_userids',\n",
    "                 color='number_of_userids')\n",
    "fig.show()"
   ]
  },
  {
   "cell_type": "code",
   "execution_count": null,
   "metadata": {
    "colab": {
     "base_uri": "https://localhost:8080/",
     "height": 542
    },
    "executionInfo": {
     "elapsed": 16,
     "status": "ok",
     "timestamp": 1659865017319,
     "user": {
      "displayName": "Bruce Murdock",
      "userId": "12722198424417932396"
     },
     "user_tz": -360
    },
    "id": "mp6MYfWgxPZ0",
    "outputId": "04e7222d-72f8-4420-b830-ae4fd9ce82c1",
    "pycharm": {
     "name": "#%%\n"
    }
   },
   "outputs": [],
   "source": [
    "fig = px.box(user_count_discussion,\n",
    "             y='number_of_userids')\n",
    "fig.show()"
   ]
  },
  {
   "cell_type": "code",
   "execution_count": null,
   "metadata": {
    "colab": {
     "base_uri": "https://localhost:8080/",
     "height": 542
    },
    "executionInfo": {
     "elapsed": 16,
     "status": "ok",
     "timestamp": 1659865017320,
     "user": {
      "displayName": "Bruce Murdock",
      "userId": "12722198424417932396"
     },
     "user_tz": -360
    },
    "id": "L0MyvHBo12wB",
    "outputId": "a9cdafa9-dd92-43a6-e6f7-0214c2e5b73c",
    "pycharm": {
     "name": "#%%\n"
    }
   },
   "outputs": [],
   "source": [
    "fig = px.histogram(user_count_discussion,\n",
    "                   x='number_of_userids')\n",
    "fig.show()"
   ]
  },
  {
   "cell_type": "markdown",
   "metadata": {
    "id": "yFvCm0i8vbNB",
    "pycharm": {
     "name": "#%% md\n"
    }
   },
   "source": [
    "## Feature Engineering"
   ]
  },
  {
   "cell_type": "markdown",
   "metadata": {
    "pycharm": {
     "name": "#%% md\n"
    }
   },
   "source": [
    "### Changing the column names of question_attempt_state_count"
   ]
  },
  {
   "cell_type": "code",
   "execution_count": null,
   "metadata": {
    "collapsed": false,
    "jupyter": {
     "outputs_hidden": false
    },
    "pycharm": {
     "name": "#%%\n"
    }
   },
   "outputs": [],
   "source": [
    "question_attempt_state_count"
   ]
  },
  {
   "cell_type": "code",
   "execution_count": null,
   "metadata": {
    "collapsed": false,
    "jupyter": {
     "outputs_hidden": false
    },
    "pycharm": {
     "name": "#%%\n"
    }
   },
   "outputs": [],
   "source": [
    "for column in question_attempt_state_count.columns:\n",
    "    question_attempt_state_count.rename(columns={column:f'question_{column}'},inplace=True)"
   ]
  },
  {
   "cell_type": "code",
   "execution_count": null,
   "metadata": {
    "collapsed": false,
    "jupyter": {
     "outputs_hidden": false
    },
    "pycharm": {
     "name": "#%%\n"
    }
   },
   "outputs": [],
   "source": [
    "question_attempt_state_count.columns"
   ]
  },
  {
   "cell_type": "code",
   "execution_count": null,
   "metadata": {
    "collapsed": false,
    "jupyter": {
     "outputs_hidden": false
    },
    "pycharm": {
     "name": "#%%\n"
    }
   },
   "outputs": [],
   "source": [
    "question_attempt_state_count.rename(columns={'question_userid':'userid'},inplace=True)"
   ]
  },
  {
   "cell_type": "code",
   "execution_count": null,
   "metadata": {
    "collapsed": false,
    "jupyter": {
     "outputs_hidden": false
    },
    "pycharm": {
     "name": "#%%\n"
    }
   },
   "outputs": [],
   "source": [
    "question_attempt_state_count.columns"
   ]
  },
  {
   "cell_type": "markdown",
   "metadata": {
    "pycharm": {
     "name": "#%% md\n"
    }
   },
   "source": []
  },
  {
   "cell_type": "markdown",
   "metadata": {
    "pycharm": {
     "name": "#%% md\n"
    }
   },
   "source": [
    "### Changing Column names of questionnaire_attempts_stats"
   ]
  },
  {
   "cell_type": "code",
   "execution_count": null,
   "metadata": {
    "collapsed": false,
    "jupyter": {
     "outputs_hidden": false
    },
    "pycharm": {
     "name": "#%%\n"
    }
   },
   "outputs": [],
   "source": [
    "questionnaire_attempts_stats"
   ]
  },
  {
   "cell_type": "code",
   "execution_count": null,
   "metadata": {
    "collapsed": false,
    "jupyter": {
     "outputs_hidden": false
    },
    "pycharm": {
     "name": "#%%\n"
    }
   },
   "outputs": [],
   "source": [
    "questionnaire_attempts_stats =  questionnaire_attempts_stats.add_prefix('questionnaire_')"
   ]
  },
  {
   "cell_type": "code",
   "execution_count": null,
   "metadata": {
    "collapsed": false,
    "jupyter": {
     "outputs_hidden": false
    },
    "pycharm": {
     "name": "#%%\n"
    }
   },
   "outputs": [],
   "source": [
    "questionnaire_attempts_stats.rename(columns={'questionnaire_userid':'userid'},inplace=True)"
   ]
  },
  {
   "cell_type": "markdown",
   "metadata": {
    "pycharm": {
     "name": "#%% md\n"
    }
   },
   "source": [
    "### Changing column name of quizattempt_stats"
   ]
  },
  {
   "cell_type": "code",
   "execution_count": null,
   "metadata": {
    "collapsed": false,
    "jupyter": {
     "outputs_hidden": false
    },
    "pycharm": {
     "name": "#%%\n"
    }
   },
   "outputs": [],
   "source": [
    "quizattempt_stats"
   ]
  },
  {
   "cell_type": "code",
   "execution_count": null,
   "metadata": {
    "collapsed": false,
    "jupyter": {
     "outputs_hidden": false
    },
    "pycharm": {
     "name": "#%%\n"
    }
   },
   "outputs": [],
   "source": [
    "quizattempt_stats =  quizattempt_stats.add_prefix('quiz_')\n",
    "quizattempt_stats.rename(columns={'quiz_userid':'userid'},inplace=True)"
   ]
  },
  {
   "cell_type": "code",
   "execution_count": null,
   "metadata": {
    "collapsed": false,
    "jupyter": {
     "outputs_hidden": false
    },
    "pycharm": {
     "name": "#%%\n"
    }
   },
   "outputs": [],
   "source": [
    "quizattempt_stats"
   ]
  },
  {
   "cell_type": "markdown",
   "metadata": {
    "pycharm": {
     "name": "#%% md\n"
    }
   },
   "source": [
    "### Changing column name of totalposts"
   ]
  },
  {
   "cell_type": "code",
   "execution_count": null,
   "metadata": {
    "collapsed": false,
    "jupyter": {
     "outputs_hidden": false
    },
    "pycharm": {
     "name": "#%%\n"
    }
   },
   "outputs": [],
   "source": [
    "total_posts_per_user"
   ]
  },
  {
   "cell_type": "code",
   "execution_count": null,
   "metadata": {
    "collapsed": false,
    "jupyter": {
     "outputs_hidden": false
    },
    "pycharm": {
     "name": "#%%\n"
    }
   },
   "outputs": [],
   "source": [
    "total_posts_per_user.rename(columns={'count':'total_posts'},inplace=True)"
   ]
  },
  {
   "cell_type": "markdown",
   "metadata": {
    "id": "P1SIp-rGw_HF",
    "pycharm": {
     "name": "#%% md\n"
    }
   },
   "source": [
    "## The Final Dataframe"
   ]
  },
  {
   "cell_type": "code",
   "execution_count": null,
   "metadata": {
    "executionInfo": {
     "elapsed": 7,
     "status": "ok",
     "timestamp": 1659865020098,
     "user": {
      "displayName": "Bruce Murdock",
      "userId": "12722198424417932396"
     },
     "user_tz": -360
    },
    "id": "jyBhD_z9vbNC",
    "pycharm": {
     "name": "#%%\n"
    }
   },
   "outputs": [],
   "source": [
    "frame_names = pd.DataFrame([get_df_name(frame) for frame in frames ],columns=['frames'])"
   ]
  },
  {
   "cell_type": "code",
   "execution_count": null,
   "metadata": {
    "collapsed": false,
    "jupyter": {
     "outputs_hidden": false
    },
    "pycharm": {
     "name": "#%%\n"
    }
   },
   "outputs": [],
   "source": [
    "frame_names"
   ]
  },
  {
   "cell_type": "markdown",
   "metadata": {
    "pycharm": {
     "name": "#%% md\n"
    }
   },
   "source": [
    "finding out which dataframe has the highest number of userids"
   ]
  },
  {
   "cell_type": "code",
   "execution_count": null,
   "metadata": {
    "colab": {
     "base_uri": "https://localhost:8080/"
    },
    "executionInfo": {
     "elapsed": 4832,
     "status": "ok",
     "timestamp": 1659865025839,
     "user": {
      "displayName": "Bruce Murdock",
      "userId": "12722198424417932396"
     },
     "user_tz": -360
    },
    "id": "Em36l34VvbND",
    "outputId": "ffe5c326-3f41-49d6-823c-99e057fefd32",
    "pycharm": {
     "name": "#%%\n"
    }
   },
   "outputs": [],
   "source": [
    "max_userid = 1\n",
    "for df in frames:\n",
    "    if 'userid' in df.columns:\n",
    "      print(f\"{get_df_name(df)} has {df.userid.nunique()} userids\")\n",
    "      if df.userid.nunique()>max_userid:\n",
    "          max_userid = df.userid.nunique()\n",
    "          #print(f\"{get_df_name(df)} has {df.userid.nunique()} userids\")\n",
    "print('-'*30)\n",
    "print(max_userid)"
   ]
  },
  {
   "cell_type": "markdown",
   "metadata": {
    "id": "Pn9w6E-S3mir",
    "pycharm": {
     "name": "#%% md\n"
    }
   },
   "source": [
    "Other than log, login_count has the most number of userid's. Therefore the final dataframe shall be prepared on top of this dataframe."
   ]
  },
  {
   "cell_type": "code",
   "execution_count": null,
   "metadata": {
    "colab": {
     "base_uri": "https://localhost:8080/",
     "height": 206
    },
    "executionInfo": {
     "elapsed": 20,
     "status": "ok",
     "timestamp": 1659865025840,
     "user": {
      "displayName": "Bruce Murdock",
      "userId": "12722198424417932396"
     },
     "user_tz": -360
    },
    "id": "WeYnUh2fvbND",
    "outputId": "9dda283b-f1b0-4729-b4d3-26ef0c110521",
    "pycharm": {
     "name": "#%%\n"
    }
   },
   "outputs": [],
   "source": [
    "login_count.head()"
   ]
  },
  {
   "cell_type": "code",
   "execution_count": null,
   "metadata": {
    "collapsed": false,
    "jupyter": {
     "outputs_hidden": false
    },
    "pycharm": {
     "name": "#%%\n"
    }
   },
   "outputs": [],
   "source": [
    "students"
   ]
  },
  {
   "cell_type": "code",
   "execution_count": null,
   "metadata": {
    "collapsed": false,
    "jupyter": {
     "outputs_hidden": false
    },
    "pycharm": {
     "name": "#%%\n"
    }
   },
   "outputs": [],
   "source": [
    "course_count = courses_per_user\n",
    "assignment_count = assignment_per_user\n",
    "survey_count = survey_per_user"
   ]
  },
  {
   "cell_type": "code",
   "execution_count": null,
   "metadata": {
    "executionInfo": {
     "elapsed": 18,
     "status": "ok",
     "timestamp": 1659865025840,
     "user": {
      "displayName": "Bruce Murdock",
      "userId": "12722198424417932396"
     },
     "user_tz": -360
    },
    "id": "O-PbE9PmvbND",
    "pycharm": {
     "name": "#%%\n"
    }
   },
   "outputs": [],
   "source": [
    "final = students.rename(columns={'id':'userid'}).merge(login_count,on='userid',how='left')\n",
    "final = final.merge(attendance_sessions_per_student,on='userid',how='left')\n",
    "final = final.merge(course_count,on='userid',how='left')\n",
    "final = final.merge(assignment_count,on='userid',how='left')\n",
    "final = final.merge(mean_posts_per_user,on='userid',how='left')\n",
    "final = final.merge(total_posts_per_user,on='userid',how='left')\n",
    "final = final.merge(question_attempt_state_count,on='userid',how='left')\n",
    "final = final.merge(questionattempts_per_user,on='userid',how='left')\n",
    "final = final.merge(questionnaire_attempts_stats,on='userid',how='left')\n",
    "final = final.merge(quiz_per_user_quizattempts,on='userid',how='left')\n",
    "final = final.merge(quizattempt_stats,on='userid',how='left')\n",
    "final = final.merge(survey_count,on='userid',how='left')\n",
    "final = final.merge(surveyquestion_count,on='userid',how='left')\n"
   ]
  },
  {
   "cell_type": "code",
   "execution_count": null,
   "metadata": {
    "colab": {
     "base_uri": "https://localhost:8080/",
     "height": 424
    },
    "executionInfo": {
     "elapsed": 19,
     "status": "ok",
     "timestamp": 1659865025841,
     "user": {
      "displayName": "Bruce Murdock",
      "userId": "12722198424417932396"
     },
     "user_tz": -360
    },
    "id": "M31JmQaFvbND",
    "outputId": "854e8db1-5427-410e-fca9-86c1efdde0ab",
    "pycharm": {
     "name": "#%%\n"
    }
   },
   "outputs": [],
   "source": [
    "final.sort_values('userid',inplace=True)"
   ]
  },
  {
   "cell_type": "code",
   "execution_count": null,
   "metadata": {
    "collapsed": false,
    "jupyter": {
     "outputs_hidden": false
    },
    "pycharm": {
     "name": "#%%\n"
    }
   },
   "outputs": [],
   "source": [
    "final"
   ]
  },
  {
   "cell_type": "code",
   "execution_count": null,
   "metadata": {
    "colab": {
     "base_uri": "https://localhost:8080/",
     "height": 587
    },
    "executionInfo": {
     "elapsed": 18,
     "status": "ok",
     "timestamp": 1659865025841,
     "user": {
      "displayName": "Bruce Murdock",
      "userId": "12722198424417932396"
     },
     "user_tz": -360
    },
    "id": "p_dSy_4RvbND",
    "outputId": "b443958a-7660-44cf-f8f0-73f474f62991",
    "pycharm": {
     "name": "#%%\n"
    }
   },
   "outputs": [],
   "source": [
    "msno.matrix(final)"
   ]
  },
  {
   "cell_type": "code",
   "execution_count": null,
   "metadata": {
    "collapsed": false,
    "jupyter": {
     "outputs_hidden": false
    },
    "pycharm": {
     "name": "#%%\n"
    }
   },
   "outputs": [],
   "source": [
    "final.info()"
   ]
  },
  {
   "cell_type": "code",
   "execution_count": null,
   "metadata": {
    "collapsed": false,
    "jupyter": {
     "outputs_hidden": false
    },
    "pycharm": {
     "name": "#%%\n"
    }
   },
   "outputs": [],
   "source": [
    "final.to_feather(f'{ppath}final.feather')"
   ]
  },
  {
   "cell_type": "markdown",
   "metadata": {
    "pycharm": {
     "name": "#%% md\n"
    }
   },
   "source": [
    "testing whether it worked"
   ]
  },
  {
   "cell_type": "code",
   "execution_count": null,
   "metadata": {
    "collapsed": false,
    "jupyter": {
     "outputs_hidden": false
    },
    "pycharm": {
     "name": "#%%\n"
    }
   },
   "outputs": [],
   "source": [
    "final_load = pd.read_feather(f'{ppath}final.feather')"
   ]
  },
  {
   "cell_type": "code",
   "execution_count": null,
   "metadata": {
    "collapsed": false,
    "jupyter": {
     "outputs_hidden": false
    },
    "pycharm": {
     "name": "#%%\n"
    }
   },
   "outputs": [],
   "source": [
    "final_load"
   ]
  }
 ],
 "metadata": {
  "colab": {
   "collapsed_sections": [],
   "name": "prep_sess1819sem2.ipynb",
   "provenance": [],
   "toc_visible": true
  },
  "kernelspec": {
   "display_name": "Python (base)",
   "language": "python",
   "name": "base"
  },
  "language_info": {
   "codemirror_mode": {
    "name": "ipython",
    "version": 3
   },
   "file_extension": ".py",
   "mimetype": "text/x-python",
   "name": "python",
   "nbconvert_exporter": "python",
   "pygments_lexer": "ipython3",
   "version": "3.9.7"
  },
  "toc-autonumbering": false,
  "toc-showcode": false,
  "toc-showmarkdowntxt": false
 },
 "nbformat": 4,
 "nbformat_minor": 4
}
